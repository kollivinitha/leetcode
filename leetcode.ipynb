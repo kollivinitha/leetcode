{
  "nbformat": 4,
  "nbformat_minor": 0,
  "metadata": {
    "colab": {
      "provenance": [],
      "authorship_tag": "ABX9TyPNP6Qxkd9nWXMnK/fUSx+v",
      "include_colab_link": true
    },
    "kernelspec": {
      "name": "python3",
      "display_name": "Python 3"
    },
    "language_info": {
      "name": "python"
    }
  },
  "cells": [
    {
      "cell_type": "markdown",
      "metadata": {
        "id": "view-in-github",
        "colab_type": "text"
      },
      "source": [
        "<a href=\"https://colab.research.google.com/github/kollivinitha/leetcode/blob/main/leetcode.ipynb\" target=\"_parent\"><img src=\"https://colab.research.google.com/assets/colab-badge.svg\" alt=\"Open In Colab\"/></a>"
      ]
    },
    {
      "cell_type": "code",
      "source": [
        "class Solution:\n",
        "    def lengthOfLongestSubstring(self, s: str) -> int:\n",
        "        l=[]\n",
        "        m=0\n",
        "        for i in s:\n",
        "            if i not in l:\n",
        "                l.append(i)\n",
        "                m=max(len(l),m)\n",
        "            else:\n",
        "                l.pop(0)\n",
        "        return m"
      ],
      "metadata": {
        "id": "pDSKrWUv_aR6"
      },
      "execution_count": null,
      "outputs": []
    },
    {
      "cell_type": "code",
      "source": [
        "class Solution {\n",
        "    public int firstUniqChar(String s) {\n",
        "        String[] St = s.split(\"\");\n",
        "        ArrayList<String> a=new ArrayList<>(Arrays.asList(St));\n",
        "        for(int i=0;i<a.size();i++){\n",
        "            if((Collections.frequency(a,a.get(i)))==1){\n",
        "                return(i);\n",
        "            }\n",
        "        }\n",
        "       return -1; \n",
        "    }\n",
        "}"
      ],
      "metadata": {
        "id": "ottjM1tE_nuw"
      },
      "execution_count": null,
      "outputs": []
    }
  ]
}